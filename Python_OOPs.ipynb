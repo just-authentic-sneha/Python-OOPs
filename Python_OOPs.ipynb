{
  "nbformat": 4,
  "nbformat_minor": 0,
  "metadata": {
    "colab": {
      "provenance": []
    },
    "kernelspec": {
      "name": "python3",
      "display_name": "Python 3"
    },
    "language_info": {
      "name": "python"
    }
  },
  "cells": [
    {
      "cell_type": "markdown",
      "source": [],
      "metadata": {
        "id": "rVHYVXDmd9g4"
      }
    },
    {
      "cell_type": "markdown",
      "source": [
        "# Python OOPs\n"
      ],
      "metadata": {
        "id": "DSTyx8Usd59K"
      }
    },
    {
      "cell_type": "markdown",
      "source": [
        "\n",
        "\n",
        "## **1. What is Object-Oriented Programming (OOP)?**  \n",
        "**Answer:**  \n",
        "OOP is a programming paradigm that organizes code using objects that contain data (attributes) and behavior (methods). It helps in modularity, reusability, and scalability.  \n",
        "\n",
        "---\n",
        "\n",
        "## **2. What is a class in OOP?**  \n",
        "**Answer:**  \n",
        "A class is a blueprint for creating objects. It defines attributes (variables) and methods (functions) that objects instantiated from the class will have.  \n",
        "\n",
        "---\n",
        "\n",
        "## **3. What is an object in OOP?**  \n",
        "**Answer:**  \n",
        "An object is an instance of a class that contains actual values for the attributes defined in the class.  \n",
        "\n",
        "---\n",
        "\n",
        "## **4. What is the difference between abstraction and encapsulation?**  \n",
        "**Answer:**  \n",
        "- **Abstraction:** Hides implementation details and only shows the necessary functionality to the user.  \n",
        "- **Encapsulation:** Protects the data from direct access by restricting it using access specifiers (`public`, `private`, `protected`).  \n",
        "\n",
        "---\n",
        "\n",
        "## **5. What are dunder (magic) methods in Python?**  \n",
        "**Answer:**  \n",
        "Dunder (double underscore) methods are special built-in methods in Python that start and end with `__`. Examples:  \n",
        "- `__init__`: Constructor method  \n",
        "- `__str__`: String representation of an object  \n",
        "- `__call__`: Makes an object callable  \n",
        "\n",
        "---\n",
        "\n",
        "## **6. Explain the concept of inheritance in OOP.**  \n",
        "**Answer:**  \n",
        "Inheritance allows a class (child class) to inherit attributes and methods from another class (parent class). This promotes code reusability and hierarchy.  \n",
        "\n",
        "---\n",
        "\n",
        "## **7. What is polymorphism in OOP?**  \n",
        "**Answer:**  \n",
        "Polymorphism allows methods in different classes to have the same name but different implementations. It enables code flexibility, such as method overriding and operator overloading.  \n",
        "\n",
        "---\n",
        "\n",
        "## **8. How is encapsulation achieved in Python?**  \n",
        "**Answer:**  \n",
        "Encapsulation is achieved using access modifiers:  \n",
        "- **Public (`var`)**: Accessible anywhere.  \n",
        "- **Protected (`_var`)**: Accessible within the class and subclasses.  \n",
        "- **Private (`__var`)**: Accessible only within the class.  \n",
        "\n",
        "---\n",
        "\n",
        "## **9. What is a constructor in Python?**  \n",
        "**Answer:**  \n",
        "A constructor is a special method (`__init__`) that initializes an object when an instance of a class is created.  \n",
        "\n",
        "---\n",
        "\n",
        "## **10. What are class and static methods in Python?**  \n",
        "**Answer:**  \n",
        "- **Class Method (`@classmethod`)**: Takes `cls` as the first parameter and can modify class-level attributes.  \n",
        "- **Static Method (`@staticmethod`)**: Does not take `self` or `cls` and behaves like a normal function inside a class.  \n",
        "\n",
        "---\n",
        "\n",
        "## **11. What is method overloading in Python?**  \n",
        "**Answer:**  \n",
        "Python does not support traditional method overloading but allows it using default arguments or `*args`.  \n",
        "\n",
        "---\n",
        "\n",
        "## **12. What is method overriding in OOP?**  \n",
        "**Answer:**  \n",
        "Method overriding occurs when a child class provides a new implementation of a method already defined in the parent class.  \n",
        "\n",
        "---\n",
        "\n",
        "## **13. What is a property decorator in Python?**  \n",
        "**Answer:**  \n",
        "The `@property` decorator allows defining getter, setter, and deleter methods for an attribute, making a method behave like an attribute.  \n",
        "\n",
        "---\n",
        "\n",
        "## **14. Why is polymorphism important in OOP?**  \n",
        "**Answer:**  \n",
        "Polymorphism increases code flexibility by allowing different classes to define the same interface but with different behavior, improving maintainability.  \n",
        "\n",
        "---\n",
        "\n",
        "## **15. What is an abstract class in Python?**  \n",
        "**Answer:**  \n",
        "An abstract class (using `ABC` from the `abc` module) contains one or more abstract methods that must be implemented in derived classes.  \n",
        "\n",
        "---\n",
        "\n",
        "## **16. What are the advantages of OOP?**  \n",
        "**Answer:**  \n",
        "- **Modularity:** Organizes code into separate classes.  \n",
        "- **Reusability:** Inheritance allows reusing code.  \n",
        "- **Encapsulation:** Protects data from unintended modifications.  \n",
        "- **Abstraction:** Hides unnecessary details from users.  \n",
        "\n",
        "---\n",
        "\n",
        "## **17. What is the difference between a class variable and an instance variable?**  \n",
        "**Answer:**  \n",
        "- **Class Variable:** Shared among all instances of the class.  \n",
        "- **Instance Variable:** Unique to each instance of the class.  \n",
        "\n",
        "---\n",
        "\n",
        "## **18. What is multiple inheritance in Python?**  \n",
        "**Answer:**  \n",
        "Multiple inheritance allows a class to inherit from more than one parent class, enabling it to combine features from different classes.  \n",
        "\n",
        "---\n",
        "\n",
        "## **19. Explain the purpose of `__str__` and `__repr__` methods in Python.**  \n",
        "**Answer:**  \n",
        "- **`__str__`**: Returns a user-friendly string representation of an object.  \n",
        "- **`__repr__`**: Returns a detailed, developer-oriented string representation of an object.  \n",
        "\n",
        "---\n",
        "\n",
        "## **20. What is the significance of the `super()` function in Python?**  \n",
        "**Answer:**  \n",
        "The `super()` function allows calling methods from the parent class, useful in method overriding and multiple inheritance.  \n",
        "\n",
        "---\n",
        "\n",
        "## **21. What is the significance of the `__del__` method in Python?**  \n",
        "**Answer:**  \n",
        "The `__del__` method is the destructor, called when an object is deleted or goes out of scope.  \n",
        "\n",
        "---\n",
        "\n",
        "## **22. What is the difference between `@staticmethod` and `@classmethod` in Python?**  \n",
        "**Answer:**  \n",
        "- **`@staticmethod`**: Does not modify class or instance attributes.  \n",
        "- **`@classmethod`**: Can modify class attributes using `cls`.  \n",
        "\n",
        "---\n",
        "\n",
        "## **23. How does polymorphism work in Python with inheritance?**  \n",
        "**Answer:**  \n",
        "Polymorphism allows different derived classes to define their own versions of inherited methods while maintaining the same interface.  \n",
        "\n",
        "---\n",
        "\n",
        "## **24. What is method chaining in Python OOP?**  \n",
        "**Answer:**  \n",
        "Method chaining allows calling multiple methods on the same object in a single statement by returning `self` in each method.  \n",
        "\n",
        "---\n",
        "\n",
        "## **25. What is the purpose of the `__call__` method in Python?**  \n",
        "**Answer:**  \n",
        "The `__call__` method allows an object to be called as a function. It is useful in cases where objects need to behave like functions.  \n"
      ],
      "metadata": {
        "id": "yP8SbvqLeMla"
      }
    },
    {
      "cell_type": "code",
      "source": [
        "# 1. Create a parent class Animal with a method speak() that prints a generic message. Create a child class Dog that overrides the speak() method to print \"Bark!\".\n",
        "\n",
        "# Parent class\n",
        "class Animal:\n",
        "    def speak(self):\n",
        "        print(\"This animal makes a sound.\")\n",
        "\n",
        "# Child class\n",
        "class Dog(Animal):\n",
        "    def speak(self):\n",
        "        print(\"Bark!\")\n",
        "\n",
        "# Demonstration\n",
        "a = Animal()\n",
        "a.speak()\n",
        "\n",
        "d = Dog()\n",
        "d.speak()\n"
      ],
      "metadata": {
        "colab": {
          "base_uri": "https://localhost:8080/"
        },
        "id": "rivlgN3wgWMk",
        "outputId": "e4cb26d7-7b75-462c-c368-d1f712da47f1"
      },
      "execution_count": null,
      "outputs": [
        {
          "output_type": "stream",
          "name": "stdout",
          "text": [
            "This animal makes a sound.\n",
            "Bark!\n"
          ]
        }
      ]
    },
    {
      "cell_type": "code",
      "source": [
        "# 2. Write a program to create an abstract class Shape with a method area(). Derive classes Circle and Rectangle from it and implement the area() method in both.\n",
        "\n",
        "from abc import ABC, abstractmethod\n",
        "import math\n",
        "\n",
        "# Abstract class\n",
        "class Shape(ABC):\n",
        "    @abstractmethod\n",
        "    def area(self):\n",
        "        pass\n",
        "\n",
        "# Circle class\n",
        "class Circle(Shape):\n",
        "    def __init__(self, radius):\n",
        "        self.radius = radius\n",
        "\n",
        "    def area(self):\n",
        "        return math.pi * self.radius * self.radius\n",
        "\n",
        "# Rectangle class\n",
        "class Rectangle(Shape):\n",
        "    def __init__(self, length, width):\n",
        "        self.length = length\n",
        "        self.width = width\n",
        "\n",
        "    def area(self):\n",
        "        return self.length * self.width\n",
        "\n",
        "# Demonstration\n",
        "c = Circle(5)\n",
        "print(\"Circle Area:\", c.area())\n",
        "\n",
        "r = Rectangle(4, 6)\n",
        "print(\"Rectangle Area:\", r.area())\n"
      ],
      "metadata": {
        "colab": {
          "base_uri": "https://localhost:8080/"
        },
        "id": "NnmqN7BqgWfn",
        "outputId": "552c7ac1-7cd2-475c-e9b7-53f980fc6591"
      },
      "execution_count": null,
      "outputs": [
        {
          "output_type": "stream",
          "name": "stdout",
          "text": [
            "Circle Area: 78.53981633974483\n",
            "Rectangle Area: 24\n"
          ]
        }
      ]
    },
    {
      "cell_type": "code",
      "source": [
        "# 3. Implement a multi-level inheritance scenario where a class Vehicle has an attribute type. Derive a class Car and further derive a class ElectricCar that adds a battery attribute.\n",
        "\n",
        "# Base class\n",
        "class Vehicle:\n",
        "    def __init__(self, type):\n",
        "        self.type = type\n",
        "\n",
        "# Derived class\n",
        "class Car(Vehicle):\n",
        "    def __init__(self, type, brand):\n",
        "        super().__init__(type)\n",
        "        self.brand = brand\n",
        "\n",
        "# Further derived class\n",
        "class ElectricCar(Car):\n",
        "    def __init__(self, type, brand, battery_capacity):\n",
        "        super().__init__(type, brand)\n",
        "        self.battery_capacity = battery_capacity\n",
        "\n",
        "# Demonstration\n",
        "e_car = ElectricCar(\"Electric\", \"Tesla\", \"100 kWh\")\n",
        "print(f\"Type: {e_car.type}, Brand: {e_car.brand}, Battery: {e_car.battery_capacity}\")\n"
      ],
      "metadata": {
        "colab": {
          "base_uri": "https://localhost:8080/"
        },
        "id": "1pDUrFh3gWis",
        "outputId": "0fe226db-65e7-4938-cce2-383f908ea5bf"
      },
      "execution_count": null,
      "outputs": [
        {
          "output_type": "stream",
          "name": "stdout",
          "text": [
            "Type: Electric, Brand: Tesla, Battery: 100 kWh\n"
          ]
        }
      ]
    },
    {
      "cell_type": "code",
      "source": [
        "# 4. Demonstrate polymorphism by creating a base class Bird with a method fly(). Create two derived classes Sparrow and Penguin that override the fly() method.\n",
        "\n",
        "class Bird:\n",
        "    def fly(self):\n",
        "        print(\"Some birds can fly.\")\n",
        "\n",
        "class Sparrow(Bird):\n",
        "    def fly(self):\n",
        "        print(\"Sparrow flies high!\")\n",
        "\n",
        "class Penguin(Bird):\n",
        "    def fly(self):\n",
        "        print(\"Penguins cannot fly.\")\n",
        "\n",
        "# Demonstration\n",
        "b = Bird()\n",
        "b.fly()\n",
        "\n",
        "s = Sparrow()\n",
        "s.fly()\n",
        "\n",
        "p = Penguin()\n",
        "p.fly()\n"
      ],
      "metadata": {
        "colab": {
          "base_uri": "https://localhost:8080/"
        },
        "id": "SljQqzl1gWm6",
        "outputId": "bfb58318-650f-4784-c919-ed53a70452e9"
      },
      "execution_count": null,
      "outputs": [
        {
          "output_type": "stream",
          "name": "stdout",
          "text": [
            "Some birds can fly.\n",
            "Sparrow flies high!\n",
            "Penguins cannot fly.\n"
          ]
        }
      ]
    },
    {
      "cell_type": "code",
      "source": [
        "# 5. Write a program to demonstrate encapsulation by creating a class BankAccount with private attributes balance and methods to deposit, withdraw, and check balance.\n",
        "\n",
        "class BankAccount:\n",
        "    def __init__(self, balance=0):\n",
        "        self.__balance = balance  # Private attribute\n",
        "\n",
        "    def deposit(self, amount):\n",
        "        if amount > 0:\n",
        "            self.__balance += amount\n",
        "            print(f\"Deposited: {amount}\")\n",
        "        else:\n",
        "            print(\"Invalid deposit amount.\")\n",
        "\n",
        "    def withdraw(self, amount):\n",
        "        if 0 < amount <= self.__balance:\n",
        "            self.__balance -= amount\n",
        "            print(f\"Withdrawn: {amount}\")\n",
        "        else:\n",
        "            print(\"Insufficient balance or invalid amount.\")\n",
        "\n",
        "    def get_balance(self):\n",
        "        return self.__balance\n",
        "\n",
        "# Demonstration\n",
        "account = BankAccount(1000)\n",
        "account.deposit(500)\n",
        "account.withdraw(200)\n",
        "print(\"Current Balance:\", account.get_balance())"
      ],
      "metadata": {
        "colab": {
          "base_uri": "https://localhost:8080/"
        },
        "id": "sbRlesUfgWpX",
        "outputId": "fe355766-8300-421f-d93d-cac0486bec29"
      },
      "execution_count": null,
      "outputs": [
        {
          "output_type": "stream",
          "name": "stdout",
          "text": [
            "Deposited: 500\n",
            "Withdrawn: 200\n",
            "Current Balance: 1300\n"
          ]
        }
      ]
    },
    {
      "cell_type": "code",
      "source": [
        "# 6. Demonstrate runtime polymorphism using a method play() in a base class Instrument. Derive classes Guitar and Piano that implement their own version of play().\n",
        "\n",
        "class Instrument:\n",
        "    def play(self):\n",
        "        print(\"Playing an instrument.\")\n",
        "\n",
        "class Guitar(Instrument):\n",
        "    def play(self):\n",
        "        print(\"Playing the guitar: Strum Strum!\")\n",
        "\n",
        "class Piano(Instrument):\n",
        "    def play(self):\n",
        "        print(\"Playing the piano: Ding Ding!\")\n",
        "\n",
        "# Demonstration\n",
        "instruments = [Guitar(), Piano()]\n",
        "\n",
        "for instrument in instruments:\n",
        "    instrument.play()"
      ],
      "metadata": {
        "id": "md1ua0ligWuL"
      },
      "execution_count": null,
      "outputs": []
    },
    {
      "cell_type": "code",
      "source": [
        "# 7. Create a class MathOperations with a class method add_numbers() to add two numbers and a static method subtract_numbers() to subtract two numbers.\n",
        "\n",
        "class MathOperations:\n",
        "    @classmethod\n",
        "    def add_numbers(cls, a, b):\n",
        "        return a + b\n",
        "\n",
        "    @staticmethod\n",
        "    def subtract_numbers(a, b):\n",
        "        return a - b\n",
        "\n",
        "# Demonstration\n",
        "print(\"Addition:\", MathOperations.add_numbers(5, 3))\n",
        "print(\"Subtraction:\", MathOperations.subtract_numbers(5, 3))"
      ],
      "metadata": {
        "colab": {
          "base_uri": "https://localhost:8080/"
        },
        "id": "UcGoIXw7gWyw",
        "outputId": "aaabc876-c3ae-45b6-aabf-feffeb38e52e"
      },
      "execution_count": null,
      "outputs": [
        {
          "output_type": "stream",
          "name": "stdout",
          "text": [
            "Addition: 8\n",
            "Subtraction: 2\n"
          ]
        }
      ]
    },
    {
      "cell_type": "code",
      "source": [
        "# 8. Implement a class Person with a class method to count the total number of persons created.\n",
        "\n",
        "class Person:\n",
        "    count = 0  # Class variable\n",
        "\n",
        "    def __init__(self, name):\n",
        "        self.name = name\n",
        "        Person.count += 1\n",
        "\n",
        "    @classmethod\n",
        "    def total_persons(cls):\n",
        "        return cls.count\n",
        "\n",
        "# Demonstration\n",
        "p1 = Person(\"Alice\")\n",
        "p2 = Person(\"Bob\")\n",
        "print(\"Total Persons Created:\", Person.total_persons())"
      ],
      "metadata": {
        "colab": {
          "base_uri": "https://localhost:8080/"
        },
        "id": "f4Nx-7x5gW4I",
        "outputId": "47fc4386-fb16-48c5-86e4-000331d91b96"
      },
      "execution_count": null,
      "outputs": [
        {
          "output_type": "stream",
          "name": "stdout",
          "text": [
            "Total Persons Created: 2\n"
          ]
        }
      ]
    },
    {
      "cell_type": "code",
      "source": [
        "# Question 9: Write a class Fraction with attributes numerator and denominator.\n",
        "# Override the __str__ method to display the fraction as \"numerator/denominator\".\n",
        "\n",
        "class Fraction:\n",
        "    def __init__(self, numerator, denominator):\n",
        "        self.numerator = numerator\n",
        "        self.denominator = denominator\n",
        "\n",
        "    def __str__(self):\n",
        "        return f\"{self.numerator}/{self.denominator}\"\n",
        "\n",
        "# Testing\n",
        "frac = Fraction(3, 4)\n",
        "print(\"Fraction:\", frac)"
      ],
      "metadata": {
        "colab": {
          "base_uri": "https://localhost:8080/"
        },
        "id": "-327d2w4gW7Z",
        "outputId": "566ac74e-664f-483c-c3b2-1b2c364c9960"
      },
      "execution_count": null,
      "outputs": [
        {
          "output_type": "stream",
          "name": "stdout",
          "text": [
            "Fraction: 3/4\n"
          ]
        }
      ]
    },
    {
      "cell_type": "code",
      "source": [
        "# Question 10: Demonstrate operator overloading by creating a class Vector and overriding the add method.\n",
        "\n",
        "class Vector:\n",
        "    def __init__(self, x, y):\n",
        "        self.x = x\n",
        "        self.y = y\n",
        "\n",
        "    def __add__(self, other):\n",
        "        return Vector(self.x + other.x, self.y + other.y)\n",
        "\n",
        "    def __str__(self):\n",
        "        return f\"Vector({self.x}, {self.y})\"\n",
        "\n",
        "# Testing\n",
        "v1 = Vector(2, 3)\n",
        "v2 = Vector(4, 5)\n",
        "print(\"Vector Addition:\", v1 + v2)\n"
      ],
      "metadata": {
        "colab": {
          "base_uri": "https://localhost:8080/"
        },
        "id": "t3zamiMYgW-N",
        "outputId": "2f188978-6873-4dca-dd77-05846bfc4c6b"
      },
      "execution_count": null,
      "outputs": [
        {
          "output_type": "stream",
          "name": "stdout",
          "text": [
            "Vector Addition: Vector(6, 8)\n"
          ]
        }
      ]
    },
    {
      "cell_type": "code",
      "source": [
        "# Question 11: Create a class Person with attributes name and age.\n",
        "# Add a method greet() that prints a greeting message.\n",
        "\n",
        "# Solution 11:\n",
        "class Person:\n",
        "    def __init__(self, name, age):\n",
        "        self.name = name\n",
        "        self.age = age\n",
        "\n",
        "    def greet(self):\n",
        "        print(f\"Hello, my name is {self.name} and I am {self.age} years old.\")\n",
        "\n",
        "# Testing\n",
        "p = Person(\"John\", 30)\n",
        "p.greet()"
      ],
      "metadata": {
        "colab": {
          "base_uri": "https://localhost:8080/"
        },
        "id": "6SpDAnMVgXBH",
        "outputId": "fd1e4228-eca2-4af0-e6da-c62ff1195e9a"
      },
      "execution_count": null,
      "outputs": [
        {
          "output_type": "stream",
          "name": "stdout",
          "text": [
            "Hello, my name is John and I am 30 years old.\n"
          ]
        }
      ]
    },
    {
      "cell_type": "code",
      "source": [
        "# Question 12: Implement a class Student with attributes name and grades.\n",
        "# Create a method average_grade() to compute the average of the grades.\n",
        "\n",
        "# Solution 12:\n",
        "class Student:\n",
        "    def __init__(self, name, grades):\n",
        "        self.name = name\n",
        "        self.grades = grades\n",
        "\n",
        "    def average_grade(self):\n",
        "        return sum(self.grades) / len(self.grades)\n",
        "\n",
        "# Testing\n",
        "s = Student(\"Alice\", [90, 85, 88, 92])\n",
        "print(\"Average Grade:\", s.average_grade())"
      ],
      "metadata": {
        "colab": {
          "base_uri": "https://localhost:8080/"
        },
        "id": "LLS6uP1OgXEO",
        "outputId": "93be3f9f-5f51-4a7e-bbb3-20b998120615"
      },
      "execution_count": null,
      "outputs": [
        {
          "output_type": "stream",
          "name": "stdout",
          "text": [
            "Average Grade: 88.75\n"
          ]
        }
      ]
    },
    {
      "cell_type": "code",
      "source": [
        "# Question 13: Create a class Rectangle with methods set_dimensions() to set the dimensions\n",
        "# and area() to calculate the area.\n",
        "\n",
        "\n",
        "class Rectangle:\n",
        "    def set_dimensions(self, length, width):\n",
        "        self.length = length\n",
        "        self.width = width\n",
        "\n",
        "    def area(self):\n",
        "        return self.length * self.width\n",
        "\n",
        "# Testing\n",
        "rect = Rectangle()\n",
        "rect.set_dimensions(5, 3)\n",
        "print(\"Rectangle Area:\", rect.area())"
      ],
      "metadata": {
        "colab": {
          "base_uri": "https://localhost:8080/"
        },
        "id": "LAiQ_IKygXHa",
        "outputId": "f499b625-1565-429b-d991-008efa709417"
      },
      "execution_count": null,
      "outputs": [
        {
          "output_type": "stream",
          "name": "stdout",
          "text": [
            "Rectangle Area: 15\n"
          ]
        }
      ]
    },
    {
      "cell_type": "code",
      "source": [
        "# Question 14: Create a class Employee with a method calculate_salary() that computes the salary.\n",
        "# Create a derived class Manager that adds a bonus to the salary.\n",
        "\n",
        "# Solution 14:\n",
        "class Employee:\n",
        "    def __init__(self, hours, rate):\n",
        "        self.hours = hours\n",
        "        self.rate = rate\n",
        "\n",
        "    def calculate_salary(self):\n",
        "        return self.hours * self.rate\n",
        "\n",
        "class Manager(Employee):\n",
        "    def __init__(self, hours, rate, bonus):\n",
        "        super().__init__(hours, rate)\n",
        "        self.bonus = bonus\n",
        "\n",
        "    def calculate_salary(self):\n",
        "        return super().calculate_salary() + self.bonus\n",
        "\n",
        "# Testing\n",
        "emp = Employee(40, 20)\n",
        "print(\"Employee Salary:\", emp.calculate_salary())\n",
        "manager = Manager(40, 30, 500)\n",
        "print(\"Manager Salary:\", manager.calculate_salary())"
      ],
      "metadata": {
        "colab": {
          "base_uri": "https://localhost:8080/"
        },
        "id": "ewbLQQ6QgXNh",
        "outputId": "44c63f61-6e8b-4418-afe6-3aade7752ed0"
      },
      "execution_count": null,
      "outputs": [
        {
          "output_type": "stream",
          "name": "stdout",
          "text": [
            "Employee Salary: 800\n",
            "Manager Salary: 1700\n"
          ]
        }
      ]
    },
    {
      "cell_type": "code",
      "source": [
        "# Question 15: Create a class Product with attributes name, price, and quantity.\n",
        "# Implement a method total_price() that calculates the total price.\n",
        "\n",
        "class Product:\n",
        "    def __init__(self, name, price, quantity):\n",
        "        self.name = name\n",
        "        self.price = price\n",
        "        self.quantity = quantity\n",
        "\n",
        "    def total_price(self):\n",
        "        return self.price * self.quantity\n",
        "\n",
        "# Testing\n",
        "prod = Product(\"Laptop\", 1000, 3)\n",
        "print(\"Total Price:\", prod.total_price())"
      ],
      "metadata": {
        "colab": {
          "base_uri": "https://localhost:8080/"
        },
        "id": "YsTkYO0EgXRQ",
        "outputId": "8109a3f2-2366-4e36-92bb-d64382ff80e8"
      },
      "execution_count": null,
      "outputs": [
        {
          "output_type": "stream",
          "name": "stdout",
          "text": [
            "Total Price: 3000\n"
          ]
        }
      ]
    },
    {
      "cell_type": "code",
      "source": [
        "# Question 16: Create a class Animal with an abstract method sound().\n",
        "# Create two derived classes Cow and Sheep that implement the sound() method.\n",
        "class Animal:\n",
        "    def sound(self):\n",
        "        pass\n",
        "\n",
        "class Cow(Animal):\n",
        "    def sound(self):\n",
        "        print(\"Moo\")\n",
        "\n",
        "class Sheep(Animal):\n",
        "    def sound(self):\n",
        "        print(\"Baa\")\n",
        "\n",
        "# Testing\n",
        "cow = Cow()\n",
        "cow.sound()\n",
        "sheep = Sheep()\n",
        "sheep.sound()"
      ],
      "metadata": {
        "colab": {
          "base_uri": "https://localhost:8080/"
        },
        "id": "2DEx50lSgXUM",
        "outputId": "e652f8da-990d-479a-e3e4-aee776b48e89"
      },
      "execution_count": null,
      "outputs": [
        {
          "output_type": "stream",
          "name": "stdout",
          "text": [
            "Moo\n",
            "Baa\n"
          ]
        }
      ]
    },
    {
      "cell_type": "code",
      "source": [
        "# Question 17: Create a class Book with attributes title, author, and year_published.\n",
        "# Add a method get_book_info() that returns a formatted string with the book's details.\n",
        "\n",
        "class Book:\n",
        "    def __init__(self, title, author, year_published):\n",
        "        self.title = title\n",
        "        self.author = author\n",
        "        self.year_published = year_published\n",
        "\n",
        "    def get_book_info(self):\n",
        "        return f\"{self.title} by {self.author}, published in {self.year_published}\"\n",
        "\n",
        "# Testing\n",
        "book = Book(\"1984\", \"George Orwell\", 1949)\n",
        "print(\"Book Info:\", book.get_book_info())"
      ],
      "metadata": {
        "colab": {
          "base_uri": "https://localhost:8080/"
        },
        "id": "WZMCppQugXXR",
        "outputId": "5adc3e5b-60c0-4ac0-c9fe-7e432e40abdc"
      },
      "execution_count": null,
      "outputs": [
        {
          "output_type": "stream",
          "name": "stdout",
          "text": [
            "Book Info: 1984 by George Orwell, published in 1949\n"
          ]
        }
      ]
    },
    {
      "cell_type": "code",
      "source": [
        "# Question 18: Create a class House with attributes address and price.\n",
        "# Create a derived class Mansion that adds an attribute number_of_rooms.\n",
        "\n",
        "class House:\n",
        "    def __init__(self, address, price):\n",
        "        self.address = address\n",
        "        self.price = price\n",
        "\n",
        "class Mansion(House):\n",
        "    def __init__(self, address, price, number_of_rooms):\n",
        "        super().__init__(address, price)\n",
        "        self.number_of_rooms = number_of_rooms\n",
        "\n",
        "# Testing\n",
        "mansion = Mansion(\"123 Luxury St\", 5000000, 15)\n",
        "print(\"Mansion Address:\", mansion.address, \"Price:\", mansion.price, \"Rooms:\", mansion.number_of_rooms)"
      ],
      "metadata": {
        "colab": {
          "base_uri": "https://localhost:8080/"
        },
        "id": "gOAek8iCgXd2",
        "outputId": "4890a746-4148-4256-e4a7-4a135fd37c0f"
      },
      "execution_count": null,
      "outputs": [
        {
          "output_type": "stream",
          "name": "stdout",
          "text": [
            "Mansion Address: 123 Luxury St Price: 5000000 Rooms: 15\n"
          ]
        }
      ]
    }
  ]
}